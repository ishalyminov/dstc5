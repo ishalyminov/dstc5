{
 "cells": [
  {
   "cell_type": "code",
   "execution_count": 1,
   "metadata": {
    "collapsed": false
   },
   "outputs": [],
   "source": [
    "import time\n",
    "import sys\n",
    "import numpy\n",
    "import collections\n",
    "import os\n",
    "import json\n",
    "\n",
    "import dataset_walker\n",
    "import ontology_reader\n",
    "from baseline import BaselineMethod1, BaselineMethod2"
   ]
  },
  {
   "cell_type": "code",
   "execution_count": 2,
   "metadata": {
    "collapsed": false
   },
   "outputs": [],
   "source": [
    "DATASET = 'dstc5_dev'\n",
    "DATAROOT = '../data'\n",
    "TRACKFILE = 'baseline_dev.json'\n",
    "ONTOLOGY_FILE = 'config/ontology_dstc5.json'\n",
    "METHOD = '1'\n",
    "\n",
    "ONTOLOGY = ontology_reader.OntologyReader(ONTOLOGY_FILE)"
   ]
  },
  {
   "cell_type": "code",
   "execution_count": 3,
   "metadata": {
    "collapsed": false
   },
   "outputs": [],
   "source": [
    "def get_dataset_info(in_dataset):\n",
    "    stats = collections.defaultdict(lambda: 0)\n",
    "    dataset = dataset_walker.dataset_walker(in_dataset, dataroot=DATAROOT, labels=True, translations=True)\n",
    "    for call in dataset:\n",
    "        stats['dialogs'] += 1\n",
    "        for (utter, translations, labels) in call:\n",
    "            stats['utterances'] += 1\n",
    "            bio_tag = utter['segment_info']['target_bio']\n",
    "            if bio_tag == 'B':\n",
    "                stats['segments'] += 1\n",
    "            if bio_tag != 'O':\n",
    "                stats['informative_utterances'] += 1\n",
    "    return stats"
   ]
  },
  {
   "cell_type": "code",
   "execution_count": 4,
   "metadata": {
    "collapsed": false
   },
   "outputs": [
    {
     "name": "stdout",
     "output_type": "stream",
     "text": [
      "['__doc__', '__init__', '__module__', 'get_pilot_tagsets', 'get_slots', 'get_tagsets', 'get_topics', 'get_translated_tagsets', 'get_translations', 'ontology', 'pilot_tagsets', 'tagsets', 'translations']\n",
      "[u'FOOD', u'ATTRACTION', u'TRANSPORTATION', u'SHOPPING', u'ACCOMMODATION']\n",
      "[u'INFO', u'FROM', u'TO', u'STATION', u'LINE', u'TYPE', u'TICKET']\n",
      "[u'1-Altitude Gallery & Bar', u'112 Katong', u'2am Dessert Bar', u'313@Somerset', u'5footway.inn Project Ann Siang', u'5footway.inn Project Boat Quay', u'5footway.inn Project Bugis', u'5footway.inn Project Chinatown', u'5footway.inn Project Chinatown 2', u'7-Eleven']\n",
      "[{'entry_en': u'1-Altitude Gallery & Bar', 'translated_cn': [u'1-altitude\\u5eca\\u53ca\\u9152\\u5427', u'1-altitude\\u5eca\\u53ca\\u9152\\u5427', u'1-altitude\\u53ca\\u9152\\u5427', u'1-altitude\\u5eca\\u53ca\\u5f8b\\u5e08', u'1-altitude\\u5eca\\u53ca', u'1-altitude\\u53ca\\u5f8b\\u5e08']}, {'entry_en': u'112 Katong', 'translated_cn': [u'\\u7b2c112\\u52a0\\u4e1c', u'\\u7b2c112\\u52a0\\u4e1c', u'\\u7b2c112\\u52a0\\u51b7', u'112\\u52a0\\u4e1c', u'\\u52a0\\u4e1c\\u7b2c112', u'\\u7b2c112\\u7684\\u52a0\\u4e1c']}, {'entry_en': u'2am Dessert Bar', 'translated_cn': [u'\\u51cc\\u66682\\u70b9\\u7684\\u751c\\u70b9', u'\\u51cc\\u66682\\u70b9\\u7684\\u751c\\u70b9', u'\\u51cc\\u66682\\u70b9\\u9152\\u5427\\u7684\\u751c\\u70b9', u'\\u51cc\\u66682\\u70b9\\u751c\\u70b9', u'\\u51cc\\u66682\\u70b9\\u7684\\u751c\\u70b9\\u5417', u'\\u51cc\\u66682\\u70b9\\u751c\\u70b9\\u7684\\u9152\\u5427']}, {'entry_en': u'313@Somerset', 'translated_cn': [u'\\u7b2c313\\u68ee\\u9ebb\\u5b9e', u'\\u7b2c313\\u68ee\\u9ebb\\u5b9e', u'\\u7b2c313\\uff20\\u68ee\\u9ebb\\u5b9e', u'\\u7b2c313\\u754c\\u68ee\\u9ebb\\u5b9e', u'\\u7b2c313\\u79d1\\u68ee\\u9ebb\\u5b9e', u'\\u7b2c31316643\\u68ee\\u9ebb\\u5b9e']}, {'entry_en': u'5footway.inn Project Ann Siang', 'translated_cn': [u'\\u5b89siang5footway.inn\\u9879\\u76ee', u'\\u5b89siang5footway.inn\\u9879\\u76ee', u'\\u5b89\\u9879\\u76ee5footway.innsiang', u'\\u9879\\u76ee5footway.inn\\u5b89siang', u'5footway.inn\\u5b89siang\\u9879\\u76ee', u'\\u5b89siang\\u9879\\u76ee5footway.inn']}, {'entry_en': u'5footway.inn Project Boat Quay', 'translated_cn': [u'5footway.inn\\u9879\\u76ee\\u7684\\u8239\\u8239\\u57e0', u'5footway.inn\\u9879\\u76ee\\u7684\\u8239\\u8239\\u57e0', u'\\u8239\\u7801\\u5934\\u9879\\u76ee5footway.inn', u'5footway.inn\\u5de5\\u7a0b\\u8239\\u8239\\u57e0', u'\\u8239\\u9879\\u76ee5footway.inn\\u8239\\u57e0', u'5footway.inn\\u8239\\u7801\\u5934\\u9879\\u76ee']}, {'entry_en': u'5footway.inn Project Bugis', 'translated_cn': [u'\\u767d\\u6c99\\u6d6e\\u9879\\u76ee5footway.inn', u'\\u767d\\u6c99\\u6d6e\\u9879\\u76ee5footway.inn', u'\\u767d\\u6c99\\u6d6e5footway.inn\\u9879\\u76ee', u'5footway.inn\\u9879\\u76ee\\u767d\\u6c99\\u6d6e', u'\\u9879\\u76ee\\u767d\\u6c99\\u6d6e5footway.inn', u'5footway.inn\\u5de5\\u7a0b\\u767d\\u6c99\\u6d6e']}, {'entry_en': u'5footway.inn Project Chinatown', 'translated_cn': [u'5footway.inn\\u9879\\u76ee\\u7684\\u4e2d\\u56fd\\u57ce', u'5footway.inn\\u9879\\u76ee\\u7684\\u4e2d\\u56fd\\u57ce', u'5footway.inn\\u5de5\\u7a0b\\u7684\\u4e2d\\u56fd\\u57ce', u'5footway.inn\\u9879\\u76ee\\u7684\\u5510\\u4eba\\u8857', u'\\u9879\\u76ee5footway.inn\\u7684\\u4e2d\\u56fd\\u57ce', u'5footway.inn\\u5de5\\u7a0b\\u7684\\u5510\\u4eba\\u8857']}, {'entry_en': u'5footway.inn Project Chinatown 2', 'translated_cn': [u'\\u4e2d\\u56fd\\u57ce\\u9879\\u76ee5footway.inn', u'\\u4e2d\\u56fd\\u57ce\\u9879\\u76ee5footway.inn', u'5footway.inn\\u9879\\u76ee\\u7684\\u4e2d\\u56fd\\u57ce', u'5footway.inn\\u5de5\\u7a0b\\u7684\\u4e2d\\u56fd\\u57ce', u'\\u5510\\u4eba\\u8857\\u9879\\u76ee5footway.inn', u'5footway.inn\\u9879\\u76ee\\u7684\\u5510\\u4eba\\u8857']}, {'entry_en': u'7-Eleven', 'translated_cn': [u'7\\uff0d11\\u4fbf\\u5229\\u5e97\\u53d1\\u552e\\u90ae\\u54c1', u'7\\uff0d11\\u4fbf\\u5229\\u5e97\\u53d1\\u552e\\u90ae\\u54c1', u'7\\uff0d11\\u4fbf\\u5229\\u5e97\\u53d1\\u552e\\u90ae\\u54c1\\u7684', u'7\\uff0d11\\u4fbf\\u5229\\u5e97\\u53d1\\u552e\\u90ae\\u54c1\\u4e86', u'\\u57287\\uff0d11\\u4fbf\\u5229\\u5e97\\u53d1\\u552e\\u90ae\\u54c1', u'\\u67097\\uff0d11\\u4fbf\\u5229\\u5e97\\u53d1\\u552e\\u90ae\\u54c1']}]\n"
     ]
    }
   ],
   "source": [
    "def print_ontology_info(in_ontology):\n",
    "    print in_ontology\n",
    "print dir (ONTOLOGY)\n",
    "print ONTOLOGY.get_topics()\n",
    "print ONTOLOGY.get_slots('TRANSPORTATION')\n",
    "print ONTOLOGY.get_tagsets()['TRANSPORTATION']['FROM'][:10]\n",
    "print ONTOLOGY.get_translated_tagsets()['TRANSPORTATION']['FROM'][:10]"
   ]
  },
  {
   "cell_type": "markdown",
   "metadata": {
    "collapsed": true
   },
   "source": [
    "Train Set Info\n",
    "=="
   ]
  },
  {
   "cell_type": "code",
   "execution_count": 5,
   "metadata": {
    "collapsed": false
   },
   "outputs": [
    {
     "name": "stdout",
     "output_type": "stream",
     "text": [
      "segments:\t4296\n",
      "informative_utterances:\t25338\n",
      "dialogs:\t35\n",
      "utterances:\t31034\n"
     ]
    }
   ],
   "source": [
    "for key, value in get_dataset_info('dstc5_train').iteritems():\n",
    "    print '{}:\\t{}'.format(key, value)"
   ]
  },
  {
   "cell_type": "markdown",
   "metadata": {
    "collapsed": false
   },
   "source": [
    "Dev Set Info\n",
    "=="
   ]
  },
  {
   "cell_type": "code",
   "execution_count": 29,
   "metadata": {
    "collapsed": false
   },
   "outputs": [
    {
     "name": "stdout",
     "output_type": "stream",
     "text": [
      "segments:\t253\n",
      "informative_utterances:\t2189\n",
      "dialogs:\t2\n",
      "utterances:\t3130\n"
     ]
    }
   ],
   "source": [
    "for key, value in get_dataset_info('dstc5_dev').iteritems():\n",
    "    print '{}:\\t{}'.format(key, value)"
   ]
  },
  {
   "cell_type": "code",
   "execution_count": 30,
   "metadata": {
    "collapsed": false
   },
   "outputs": [
    {
     "name": "stdout",
     "output_type": "stream",
     "text": [
      "<ontology_reader.OntologyReader instance at 0x1127dc830>\n"
     ]
    }
   ],
   "source": [
    "print_ontology_info(ONTOLOGY)"
   ]
  },
  {
   "cell_type": "markdown",
   "metadata": {},
   "source": [
    "DSTC4 - Train Set Info\n",
    "=="
   ]
  },
  {
   "cell_type": "code",
   "execution_count": 31,
   "metadata": {
    "collapsed": false
   },
   "outputs": [
    {
     "name": "stdout",
     "output_type": "stream",
     "text": [
      "segments:\t1747\n",
      "informative_utterances:\t9974\n",
      "dialogs:\t14\n",
      "utterances:\t12759\n"
     ]
    }
   ],
   "source": [
    "for key, value in get_dataset_info('dstc4_train').iteritems():\n",
    "    print '{}:\\t{}'.format(key, value)"
   ]
  },
  {
   "cell_type": "markdown",
   "metadata": {},
   "source": [
    "DSTC4 - Dev Set Info\n",
    "=="
   ]
  },
  {
   "cell_type": "code",
   "execution_count": 32,
   "metadata": {
    "collapsed": false
   },
   "outputs": [
    {
     "name": "stdout",
     "output_type": "stream",
     "text": [
      "segments:\t632\n",
      "informative_utterances:\t4139\n",
      "dialogs:\t6\n",
      "utterances:\t4812\n"
     ]
    }
   ],
   "source": [
    "for key, value in get_dataset_info('dstc4_dev').iteritems():\n",
    "    print '{}:\\t{}'.format(key, value)"
   ]
  },
  {
   "cell_type": "markdown",
   "metadata": {},
   "source": [
    "DSTC4 - Test Set Info\n",
    "=="
   ]
  },
  {
   "cell_type": "code",
   "execution_count": 33,
   "metadata": {
    "collapsed": false
   },
   "outputs": [
    {
     "name": "stdout",
     "output_type": "stream",
     "text": [
      "segments:\t1147\n",
      "informative_utterances:\t6528\n",
      "dialogs:\t9\n",
      "utterances:\t7848\n"
     ]
    }
   ],
   "source": [
    "for key, value in get_dataset_info('dstc4_test').iteritems():\n",
    "    print '{}:\\t{}'.format(key, value)"
   ]
  },
  {
   "cell_type": "code",
   "execution_count": 35,
   "metadata": {
    "collapsed": false
   },
   "outputs": [
    {
     "data": {
      "text/plain": [
       "['__doc__',\n",
       " '__init__',\n",
       " '__module__',\n",
       " 'get_pilot_tagsets',\n",
       " 'get_slots',\n",
       " 'get_tagsets',\n",
       " 'get_topics',\n",
       " 'get_translated_tagsets',\n",
       " 'get_translations',\n",
       " 'ontology',\n",
       " 'pilot_tagsets',\n",
       " 'tagsets',\n",
       " 'translations']"
      ]
     },
     "execution_count": 35,
     "metadata": {},
     "output_type": "execute_result"
    }
   ],
   "source": [
    "dir(ONTOLOGY)"
   ]
  },
  {
   "cell_type": "code",
   "execution_count": 9,
   "metadata": {
    "collapsed": false
   },
   "outputs": [
    {
     "name": "stdout",
     "output_type": "stream",
     "text": [
      "FOOD :: [u'INFO', u'CUISINE', u'TYPE_OF_PLACE', u'DRINK', u'PLACE', u'MEAL_TIME', u'DISH', u'NEIGHBOURHOOD']\n",
      "ATTRACTION :: [u'INFO', u'TYPE_OF_PLACE', u'ACTIVITY', u'PLACE', u'TIME', u'NEIGHBOURHOOD']\n",
      "TRANSPORTATION :: [u'INFO', u'FROM', u'TO', u'STATION', u'LINE', u'TYPE', u'TICKET']\n",
      "SHOPPING :: [u'INFO', u'TYPE_OF_PLACE', u'PLACE', u'NEIGHBOURHOOD', u'TIME']\n",
      "ACCOMMODATION :: [u'INFO', u'TYPE_OF_PLACE', u'PLACE', u'NEIGHBOURHOOD']\n"
     ]
    }
   ],
   "source": [
    "# print ONTOLOGY.get_topics()\n",
    "for topic in ONTOLOGY.get_topics():\n",
    "    print topic, '::', ONTOLOGY.get_slots(topic)"
   ]
  },
  {
   "cell_type": "markdown",
   "metadata": {},
   "source": [
    "Exploring dialog states\n",
    "=="
   ]
  },
  {
   "cell_type": "code",
   "execution_count": 9,
   "metadata": {
    "collapsed": false
   },
   "outputs": [
    {
     "name": "stdout",
     "output_type": "stream",
     "text": [
      "INFO 1.11442457698\n",
      "CUISINE 1.24077046549\n",
      "FROM 1.01831210191\n",
      "TYPE_OF_PLACE 1.03892535491\n",
      "DRINK 1.09386281588\n",
      "TIME 1.2495697074\n",
      "TO 1.03622641509\n",
      "STATION 1.01346153846\n",
      "PLACE 1.09922535211\n",
      "MEAL_TIME 1.03020134228\n",
      "ACTIVITY 1.07260963336\n",
      "DISH 1.15974625144\n",
      "TICKET 1.0037037037\n",
      "TYPE 1.05574280529\n",
      "LINE 1.08549618321\n",
      "NEIGHBOURHOOD 1.03237109962\n"
     ]
    }
   ],
   "source": [
    "slot_value_map = collections.defaultdict(lambda: collections.defaultdict(lambda: 0))\n",
    "for root, dirs, files in os.walk(DATAROOT):\n",
    "    for filename in files:\n",
    "        if not filename == 'label.json':\n",
    "            continue\n",
    "        content = json.load(open(os.path.join(root, filename)))\n",
    "        for utterance in content['utterances']:\n",
    "            for slot, values in utterance.get('frame_label', {}).items():\n",
    "                slot_value_map[slot][len(values)] += 1\n",
    "\n",
    "for slot, values_dist in slot_value_map.items():\n",
    "    values_mean = sum([key * value for key, value in values_dist.items()]) / float(sum(values_dist.values()))\n",
    "    print slot, values_mean"
   ]
  },
  {
   "cell_type": "code",
   "execution_count": 20,
   "metadata": {
    "collapsed": false
   },
   "outputs": [
    {
     "name": "stdout",
     "output_type": "stream",
     "text": [
      "FOOD [u'INFO', u'CUISINE', u'TYPE_OF_PLACE', u'DRINK', u'PLACE', u'MEAL_TIME', u'DISH', u'NEIGHBOURHOOD']\n",
      "ATTRACTION [u'INFO', u'TYPE_OF_PLACE', u'ACTIVITY', u'PLACE', u'TIME', u'NEIGHBOURHOOD']\n",
      "TRANSPORTATION [u'INFO', u'FROM', u'TO', u'STATION', u'LINE', u'TYPE', u'TICKET']\n",
      "SHOPPING [u'INFO', u'TYPE_OF_PLACE', u'PLACE', u'NEIGHBOURHOOD', u'TIME']\n",
      "ACCOMMODATION [u'INFO', u'TYPE_OF_PLACE', u'PLACE', u'NEIGHBOURHOOD']\n"
     ]
    }
   ],
   "source": [
    "for topic, slots in ONTOLOGY.tagsets.items():\n",
    "    print topic, slots.keys()"
   ]
  },
  {
   "cell_type": "code",
   "execution_count": 3,
   "metadata": {
    "collapsed": false
   },
   "outputs": [
    {
     "name": "stdout",
     "output_type": "stream",
     "text": [
      "None\n"
     ]
    }
   ],
   "source": [
    "print ONTOLOGY.get_slots('OPENING')"
   ]
  }
 ],
 "metadata": {
  "kernelspec": {
   "display_name": "Python 2",
   "language": "python",
   "name": "python2"
  },
  "language_info": {
   "codemirror_mode": {
    "name": "ipython",
    "version": 2
   },
   "file_extension": ".py",
   "mimetype": "text/x-python",
   "name": "python",
   "nbconvert_exporter": "python",
   "pygments_lexer": "ipython2",
   "version": "2.7.11"
  }
 },
 "nbformat": 4,
 "nbformat_minor": 0
}
