{
 "cells": [
  {
   "cell_type": "code",
   "execution_count": 51,
   "metadata": {
    "collapsed": false
   },
   "outputs": [],
   "source": [
    "import time\n",
    "import sys\n",
    "import numpy\n",
    "\n",
    "import dataset_walker\n",
    "import ontology_reader\n",
    "from baseline import BaselineMethod1, BaselineMethod2"
   ]
  },
  {
   "cell_type": "code",
   "execution_count": 52,
   "metadata": {
    "collapsed": false
   },
   "outputs": [
    {
     "name": "stdout",
     "output_type": "stream",
     "text": [
      "{u'translated': [{u'hyp': u'Hello .', u'align': [[u'\\u4f60\\u597d', [0]], [u'.', [1]]]}, {u'hyp': u'how do you do .', u'align': [[u'\\u4f60', [1, 2, 3]], [u'\\u597d', [0]], [u'.', [4]]]}, {u'hyp': u'how do you do ?', u'align': [[u'\\u4f60', [1, 2, 3]], [u'\\u597d', [0]], [u'.', [4]]]}, {u'hyp': u'you are good .', u'align': [[u'\\u4f60', [0, 1]], [u'\\u597d', [2]], [u'.', [3]]]}, {u'hyp': u'do you good .', u'align': [[u'\\u4f60', [0, 1]], [u'\\u597d', [2]], [u'.', [3]]]}], u'utter_index': 0}\n",
      "{u'translated': [{u'hyp': u'Hello ?', u'align': [[u'\\u5582', [0]], [u'?', [1]]]}, {u'hyp': u'hey ?', u'align': [[u'\\u5582', [0]], [u'?', [1]]]}, {u'hyp': u'hello ? \"', u'align': [[u'\\u5582', [0]], [u'?', [1]]]}, {u'hyp': u'hello .', u'align': [[u'\\u5582', [0]], [u'?', [1]]]}, {u'hyp': u'hi there ?', u'align': [[u'\\u5582', [0, 1]], [u'?', [2]]]}], u'utter_index': 0}\n"
     ]
    }
   ],
   "source": [
    "DATASET = 'dstc5_dev'\n",
    "DATAROOT = '../data'\n",
    "TRACKFILE = 'baseline_dev.json'\n",
    "ONTOLOGY = 'config/ontology_dstc5.json'\n",
    "METHOD = '1'\n",
    "\n",
    "dataset = dataset_walker.dataset_walker(DATASET, dataroot=DATAROOT, labels=False, translations=True)\n",
    "\n",
    "track = {\"sessions\": []}\n",
    "track[\"dataset\"] = DATASET\n",
    "start_time = time.time()\n",
    "\n",
    "ontology = ontology_reader.OntologyReader(ONTOLOGY)\n",
    "\n",
    "for call in dataset:\n",
    "    this_session = {\"session_id\":call.log[\"session_id\"], \"utterances\":[]}\n",
    "    tracker.reset()\n",
    "    for (utter, translations, _) in call:\n",
    "        print translations\n",
    "        break\n",
    "        tracker_result = tracker.addUtter(utter, translations)\n",
    "        if tracker_result is not None:\n",
    "            this_session[\"utterances\"].append(tracker_result)\n",
    "    track[\"sessions\"].append(this_session)"
   ]
  },
  {
   "cell_type": "code",
   "execution_count": 53,
   "metadata": {
    "collapsed": false
   },
   "outputs": [],
   "source": [
    "def print_dataset_info(in_dataset):\n",
    "    print 'Number of dialogs:\\t{}'.format(len(dataset))\n",
    "    print 'Mean dialog length (turns):\\t{}'.format(numpy.mean([len(dialog) for dialog in dataset]))"
   ]
  },
  {
   "cell_type": "code",
   "execution_count": 63,
   "metadata": {
    "collapsed": true
   },
   "outputs": [],
   "source": [
    "def print_ontology_info(in_ontology):\n",
    "    print 'Number of topics: {}'.format(len(in_ontology.get_topics()))\n",
    "    print ''"
   ]
  },
  {
   "cell_type": "markdown",
   "metadata": {
    "collapsed": true
   },
   "source": [
    "DSTC 5 Training Set Info\n",
    "=="
   ]
  },
  {
   "cell_type": "code",
   "execution_count": 60,
   "metadata": {
    "collapsed": false
   },
   "outputs": [
    {
     "name": "stdout",
     "output_type": "stream",
     "text": [
      "Number of dialogs:\t2\n",
      "Mean dialog length (turns):\t1565.0\n"
     ]
    }
   ],
   "source": [
    "print_dataset_info(dataset)"
   ]
  },
  {
   "cell_type": "code",
   "execution_count": 65,
   "metadata": {
    "collapsed": false
   },
   "outputs": [
    {
     "name": "stdout",
     "output_type": "stream",
     "text": [
      "['__doc__', '__init__', '__module__', 'get_pilot_tagsets', 'get_slots', 'get_tagsets', 'get_topics', 'get_translated_tagsets', 'get_translations', 'ontology', 'pilot_tagsets', 'tagsets', 'translations']\n",
      "Number of topics: 5\n"
     ]
    }
   ],
   "source": [
    "print dir(ontology)\n",
    "print_ontology_info(ontology)"
   ]
  }
 ],
 "metadata": {
  "kernelspec": {
   "display_name": "Python 2",
   "language": "python",
   "name": "python2"
  },
  "language_info": {
   "codemirror_mode": {
    "name": "ipython",
    "version": 2
   },
   "file_extension": ".py",
   "mimetype": "text/x-python",
   "name": "python",
   "nbconvert_exporter": "python",
   "pygments_lexer": "ipython2",
   "version": "2.7.11"
  }
 },
 "nbformat": 4,
 "nbformat_minor": 0
}
